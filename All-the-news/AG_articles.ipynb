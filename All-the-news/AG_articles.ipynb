{
 "cells": [
  {
   "cell_type": "code",
   "execution_count": 96,
   "metadata": {},
   "outputs": [],
   "source": [
    "import xml.etree.cElementTree as et\n",
    "import pandas as pd\n",
    " \n",
    "def get_AG_articles():\n",
    "    xml_path = \"newsspace200.xml\"\n",
    "\n",
    "    parsed_xml = et.parse(xml_path)\n",
    "\n",
    "    root = parsed_xml.getroot()\n",
    "\n",
    "    titles = [title.text for title in root.findall('title')]\n",
    "\n",
    "    len(titles)\n",
    "\n",
    "    pubdates = [pubdate.text for pubdate in root.findall('pubdate')]\n",
    "\n",
    "    sources = [source.text for source in root.findall('source')]\n",
    "\n",
    "\n",
    "\n",
    "    column_names = ['date','title','source']\n",
    "\n",
    "    column_values = [pubdates,titles,sources]\n",
    "\n",
    "    AG_articles = pd.DataFrame(columns = column_names)\n",
    "\n",
    "    for column_name, column_value in zip(column_names,column_values):\n",
    "        AG_articles[column_name] = column_value\n",
    "\n",
    "    AG_articles_dated = AG_articles.loc[AG_articles['date'] != '0000-00-00 00:00:00']\n",
    "\n",
    "    AG_articles_dated_cleaned = AG_articles_dated.dropna(subset=['date', 'title', 'source'])\n",
    "\n",
    "    return AG_articles_dated_cleaned"
   ]
  },
  {
   "cell_type": "code",
   "execution_count": null,
   "metadata": {},
   "outputs": [],
   "source": []
  }
 ],
 "metadata": {
  "kernelspec": {
   "display_name": "Python 3",
   "language": "python",
   "name": "python3"
  },
  "language_info": {
   "codemirror_mode": {
    "name": "ipython",
    "version": 3
   },
   "file_extension": ".py",
   "mimetype": "text/x-python",
   "name": "python",
   "nbconvert_exporter": "python",
   "pygments_lexer": "ipython3",
   "version": "3.7.5"
  }
 },
 "nbformat": 4,
 "nbformat_minor": 4
}
